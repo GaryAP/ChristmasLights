{
 "cells": [
  {
   "cell_type": "code",
   "execution_count": 23,
   "id": "5e4ca62b",
   "metadata": {
    "scrolled": true
   },
   "outputs": [],
   "source": [
    "import xled\n",
    "import xled_plus\n",
    "import time\n",
    "import random as ran\n",
    "import threading\n",
    "import keyboard\n",
    "import requests\n",
    "import io\n",
    "import struct\n",
    "\n",
    "host = ['192.168.1.150', '192.168.1.253']\n",
    "c1 = xled.control.ControlInterface(host[0])\n",
    "c2 = xled.control.ControlInterface(host[1])\n",
    "\n",
    "a1 = xled.control.HighControlInterface(host[0])\n",
    "a2 = xled.control.HighControlInterface(host[1])\n",
    "\n",
    "b1 = xled.control.ControlInterface(host = host[0])\n",
    "b2 = xled.control.ControlInterface(host = host[1])"
   ]
  },
  {
   "cell_type": "code",
   "execution_count": 24,
   "id": "577ade05",
   "metadata": {},
   "outputs": [],
   "source": [
    "rgbList = []\n",
    "def chaos():\n",
    "    red = ran.randrange(0,256)\n",
    "    green = ran.randrange(0,256)\n",
    "    blue = ran.randrange(0,256)\n",
    "    return red,green,blue\n",
    "        \n",
    "def lightsetone(r,g,b):\n",
    "    a1.set_static_color(r,g,b)\n",
    "    #a1.write_static_movie(file_lul, 1, r,g,b)\n",
    "    \n",
    "def lightsettwo(r,g,b):\n",
    "    a2.set_static_color(r,g,b)\n",
    "    #a2.write_static_movie(file_lul, 1, r,g,b)"
   ]
  },
  {
   "cell_type": "code",
   "execution_count": 31,
   "id": "8224ebb6",
   "metadata": {},
   "outputs": [],
   "source": [
    "def tee():\n",
    "    r,g,b = chaos()\n",
    "    t1 = threading.Thread(target=lightsetone, args=(11,233,12,))\n",
    "    t2 = threading.Thread(target=lightsettwo, args=(11,233,12))\n",
    "    t1.start()\n",
    "    t2.start()\n",
    "    t1.join()\n",
    "    t2.join()"
   ]
  },
  {
   "cell_type": "code",
   "execution_count": 34,
   "id": "ff59055b",
   "metadata": {
    "scrolled": true
   },
   "outputs": [
    {
     "name": "stdout",
     "output_type": "stream",
     "text": [
      "<ApplicationResponse [1000]>\n",
      "<ApplicationResponse [1000]>\n",
      "<ApplicationResponse [1000]>\n",
      "<ApplicationResponse [1000]>\n"
     ]
    },
    {
     "ename": "KeyboardInterrupt",
     "evalue": "",
     "output_type": "error",
     "traceback": [
      "\u001b[1;31m---------------------------------------------------------------------------\u001b[0m",
      "\u001b[1;31mKeyboardInterrupt\u001b[0m                         Traceback (most recent call last)",
      "\u001b[1;32m~\\AppData\\Local\\Temp/ipykernel_11680/1801921120.py\u001b[0m in \u001b[0;36m<module>\u001b[1;34m\u001b[0m\n\u001b[0;32m      2\u001b[0m     \u001b[0mtee\u001b[0m\u001b[1;33m(\u001b[0m\u001b[1;33m)\u001b[0m\u001b[1;33m\u001b[0m\u001b[1;33m\u001b[0m\u001b[0m\n\u001b[0;32m      3\u001b[0m     \u001b[0mprint\u001b[0m\u001b[1;33m(\u001b[0m\u001b[0mb1\u001b[0m\u001b[1;33m.\u001b[0m\u001b[0mget_brightness\u001b[0m\u001b[1;33m(\u001b[0m\u001b[1;33m)\u001b[0m\u001b[1;33m)\u001b[0m\u001b[1;33m\u001b[0m\u001b[1;33m\u001b[0m\u001b[0m\n\u001b[1;32m----> 4\u001b[1;33m     \u001b[0mtime\u001b[0m\u001b[1;33m.\u001b[0m\u001b[0msleep\u001b[0m\u001b[1;33m(\u001b[0m\u001b[1;36m.2\u001b[0m\u001b[1;33m)\u001b[0m\u001b[1;33m\u001b[0m\u001b[1;33m\u001b[0m\u001b[0m\n\u001b[0m",
      "\u001b[1;31mKeyboardInterrupt\u001b[0m: "
     ]
    }
   ],
   "source": [
    "while True:\n",
    "    tee()\n",
    "    print(b1.get_brightness())\n",
    "    time.sleep(.5)"
   ]
  },
  {
   "cell_type": "code",
   "execution_count": null,
   "id": "ac0557a5",
   "metadata": {},
   "outputs": [],
   "source": []
  }
 ],
 "metadata": {
  "kernelspec": {
   "display_name": "Python 3",
   "language": "python",
   "name": "python3"
  },
  "language_info": {
   "codemirror_mode": {
    "name": "ipython",
    "version": 3
   },
   "file_extension": ".py",
   "mimetype": "text/x-python",
   "name": "python",
   "nbconvert_exporter": "python",
   "pygments_lexer": "ipython3",
   "version": "3.7.8"
  },
  "widgets": {
   "application/vnd.jupyter.widget-state+json": {
    "state": {},
    "version_major": 2,
    "version_minor": 0
   }
  }
 },
 "nbformat": 4,
 "nbformat_minor": 5
}
